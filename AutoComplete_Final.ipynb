{
  "cells": [
    {
      "attachments": {},
      "cell_type": "markdown",
      "metadata": {
        "id": "eHL6RYHvR_H0"
      },
      "source": [
        "# **Language model for generating text using various deep learning techniques**\n",
        "This code generates text using language models that are implemented using various deep learning techniques. It uses the TensorFlow Keras library for creating and training deep learning models."
      ]
    },
    {
      "attachments": {},
      "cell_type": "markdown",
      "metadata": {
        "id": "defR7E9CSU0j"
      },
      "source": [
        "## **Step 1:** Install required libraries\n",
        "\n",
        "---\n",
        "\n",
        "\n",
        "The first step is to install the necessary libraries required to run the code. This code uses the `wikipedia` library to extract text data from Wikipedia, `re` library for performing regular expressions, `numpy` and `tensorflow` libraries for performing deep learning operations."
      ]
    },
    {
      "cell_type": "code",
      "execution_count": null,
      "metadata": {
        "colab": {
          "base_uri": "https://localhost:8080/"
        },
        "id": "r05T33gNnIFG",
        "outputId": "987ac739-fa63-49df-f609-d57b5acc9274"
      },
      "outputs": [
        {
          "name": "stdout",
          "output_type": "stream",
          "text": [
            "Looking in indexes: https://pypi.org/simple, https://us-python.pkg.dev/colab-wheels/public/simple/\n",
            "Requirement already satisfied: wikipedia in /usr/local/lib/python3.9/dist-packages (1.4.0)\n",
            "Requirement already satisfied: beautifulsoup4 in /usr/local/lib/python3.9/dist-packages (from wikipedia) (4.11.2)\n",
            "Requirement already satisfied: requests<3.0.0,>=2.0.0 in /usr/local/lib/python3.9/dist-packages (from wikipedia) (2.27.1)\n",
            "Requirement already satisfied: idna<4,>=2.5 in /usr/local/lib/python3.9/dist-packages (from requests<3.0.0,>=2.0.0->wikipedia) (3.4)\n",
            "Requirement already satisfied: charset-normalizer~=2.0.0 in /usr/local/lib/python3.9/dist-packages (from requests<3.0.0,>=2.0.0->wikipedia) (2.0.12)\n",
            "Requirement already satisfied: certifi>=2017.4.17 in /usr/local/lib/python3.9/dist-packages (from requests<3.0.0,>=2.0.0->wikipedia) (2022.12.7)\n",
            "Requirement already satisfied: urllib3<1.27,>=1.21.1 in /usr/local/lib/python3.9/dist-packages (from requests<3.0.0,>=2.0.0->wikipedia) (1.26.15)\n",
            "Requirement already satisfied: soupsieve>1.2 in /usr/local/lib/python3.9/dist-packages (from beautifulsoup4->wikipedia) (2.4)\n"
          ]
        }
      ],
      "source": [
        "# Install required packages\n",
        "%pip install wikipedia\n",
        "\n",
        "# Import necessary packages\n",
        "import wikipedia\n",
        "import re\n",
        "import random\n",
        "import numpy as np\n",
        "import tensorflow as tf\n",
        "from tensorflow.keras.preprocessing.text import Tokenizer\n",
        "from tensorflow.keras.preprocessing.sequence import pad_sequences\n",
        "import keras"
      ]
    },
    {
      "attachments": {},
      "cell_type": "markdown",
      "metadata": {
        "id": "C0vT6M6QSwIE"
      },
      "source": [
        "## **Step 2:** Extract and preprocess data\n",
        "\n",
        "---\n",
        "\n",
        "\n",
        "The second step is to extract text data from Wikipedia and preprocess it for training the language models. The `data` variable is used to store the extracted text data, and the `maxlen` variable is used to set the maximum length of the sequence.\n",
        "\n",
        "The `re` library is used to remove citations and special characters from the extracted text data. The text data is then converted to lowercase."
      ]
    },
    {
      "cell_type": "code",
      "execution_count": null,
      "metadata": {
        "id": "TUU9GhRTsb2G"
      },
      "outputs": [],
      "source": [
        "# Define the maximum length of the sequence\n",
        "maxlen = 20\n",
        "\n",
        "# Extract the data from wikipedia\n",
        "data = wikipedia.page(\"Trimmer (electronics)\").content \n",
        "#***\n",
        "\n",
        "# Preprocess the data\n",
        "data = re.sub(r'\\[[0-9]*\\]', '', data)  # Remove citations\n",
        "data = re.sub(r'[^a-zA-Z0-9\\s]', '', data)  # Remove special characters\n",
        "data = data[3000:].lower()  # Convert to lowercase"
      ]
    },
    {
      "attachments": {},
      "cell_type": "markdown",
      "metadata": {
        "id": "1SYpMlsPTETb"
      },
      "source": [
        "## **Step 3:** Tokenize the data\n",
        "\n",
        "---\n",
        "\n",
        "The third step is to tokenize the preprocessed data using the `Tokenizer` class from the TensorFlow Keras library. The `fit_on_texts` method is used to fit the tokenizer on the preprocessed data, and the` word_index` and `total_words `variables are used to store the word index and the total number of words in the text data."
      ]
    },
    {
      "cell_type": "code",
      "execution_count": null,
      "metadata": {
        "id": "Q0qaOUhRS8s0"
      },
      "outputs": [],
      "source": [
        "# Tokenize the data\n",
        "tokenizer = Tokenizer()\n",
        "tokenizer.fit_on_texts([data])\n",
        "word_index = tokenizer.word_index\n",
        "total_words = len(word_index) + 1\n",
        "\n",
        "# Create input sequences using the tokenizer\n",
        "input_sequences = []\n",
        "for line in data.split('\\n'):\n",
        "    token_list = tokenizer.texts_to_sequences([line])[0]\n",
        "    for i in range(1, len(token_list)):\n",
        "        n_gram_sequence = token_list[:i+1]\n",
        "        input_sequences.append(n_gram_sequence)"
      ]
    },
    {
      "attachments": {},
      "cell_type": "markdown",
      "metadata": {
        "id": "6q6920MJTe8F"
      },
      "source": [
        "## **Step 4:** Create input sequences\n",
        "\n",
        "---\n",
        "\n",
        "\n",
        "The fourth step is to create input sequences for training the language models. The `input_sequences` list is used to store the input sequences, and the `pad_sequences` method is used to pad the sequences to ensure they are all of the same length. The `predictors` and `label` variables are used to store the predictors and target for training the models."
      ]
    },
    {
      "cell_type": "code",
      "execution_count": null,
      "metadata": {
        "colab": {
          "base_uri": "https://localhost:8080/"
        },
        "id": "9t7e_wwwTDfb",
        "outputId": "d5e8ffec-144b-4113-9905-1f476cf20846"
      },
      "outputs": [
        {
          "name": "stdout",
          "output_type": "stream",
          "text": [
            "448 448\n"
          ]
        }
      ],
      "source": [
        "# Pad the sequences to ensure they are all the same length\n",
        "max_sequence_len = max([len(x) for x in input_sequences])\n",
        "input_sequences = np.array(pad_sequences(input_sequences, maxlen=max_sequence_len, padding='pre'))\n",
        "\n",
        "\n",
        "# Create predictors and target\n",
        "predictors, label = input_sequences[:,:-1],input_sequences[:,-1]\n",
        "\n",
        "# Convert target to categorical\n",
        "label = keras.utils.to_categorical(label, num_classes=total_words)\n",
        "print(len(label), len(predictors))"
      ]
    },
    {
      "attachments": {},
      "cell_type": "markdown",
      "metadata": {
        "id": "NyxFLKDBToP0"
      },
      "source": [
        "## **Step 5:** Define and train the models\n",
        "\n",
        "---\n",
        "The fifth step is to define and train the language models. Three different models are defined using the TensorFlow Keras library, and each model is trained using the `fit` method.\n",
        "\n",
        "The `history` variables are used to store the training history of each model. The `learning_rate` and `optimizer` variables are used to set the learning rate and optimizer for compiling the models."
      ]
    },
    {
      "attachments": {},
      "cell_type": "markdown",
      "metadata": {
        "id": "X3_z6UrlWTMy"
      },
      "source": [
        "# **Model 1 - \"LSTM-Bidirectional\"**\n",
        "This model uses an embedding layer to transform the input sequences to 100-dimensional vectors. It has a** Bidirectional LSTM layer** with 150 units that returns the sequences, followed by a 20% dropout layer. It then has another LSTM layer with 100 units that returns a single output. Finally, it has two fully connected layers, one with half the number of total words with ReLU activation and L2 regularization, and another with the number of total words and a softmax activation function."
      ]
    },
    {
      "cell_type": "code",
      "execution_count": 1,
      "metadata": {
        "colab": {
          "base_uri": "https://localhost:8080/"
        },
        "id": "xfqFGuZa4NiJ",
        "outputId": "db198520-fe50-4fdc-a1ac-fc684b983bdc"
      },
      "outputs": [
        {
          "ename": "NameError",
          "evalue": "name 'keras' is not defined",
          "output_type": "error",
          "traceback": [
            "\u001b[0;31m---------------------------------------------------------------------------\u001b[0m",
            "\u001b[0;31mNameError\u001b[0m                                 Traceback (most recent call last)",
            "Cell \u001b[0;32mIn[1], line 5\u001b[0m\n\u001b[1;32m      1\u001b[0m learning_rate \u001b[39m=\u001b[39m \u001b[39m0.01\u001b[39m\n\u001b[1;32m      2\u001b[0m \u001b[39m# < \u001b[39;00m\n\u001b[1;32m      3\u001b[0m \n\u001b[1;32m      4\u001b[0m \u001b[39m#Fitting process, SVD, adam ~ semnatic, \u001b[39;00m\n\u001b[0;32m----> 5\u001b[0m optimizer \u001b[39m=\u001b[39m keras\u001b[39m.\u001b[39moptimizers\u001b[39m.\u001b[39mAdam(lr\u001b[39m=\u001b[39mlearning_rate)\n\u001b[1;32m      7\u001b[0m \u001b[39m#\u001b[39;00m\n\u001b[1;32m      8\u001b[0m \u001b[39m# Model 1\u001b[39;00m\n\u001b[1;32m      9\u001b[0m model1 \u001b[39m=\u001b[39m tf\u001b[39m.\u001b[39mkeras\u001b[39m.\u001b[39mSequential([\n\u001b[1;32m     10\u001b[0m     tf\u001b[39m.\u001b[39mkeras\u001b[39m.\u001b[39mlayers\u001b[39m.\u001b[39mEmbedding(total_words, \u001b[39m100\u001b[39m, input_length\u001b[39m=\u001b[39mmax_sequence_len\u001b[39m-\u001b[39m\u001b[39m1\u001b[39m),\n\u001b[1;32m     11\u001b[0m     tf\u001b[39m.\u001b[39mkeras\u001b[39m.\u001b[39mlayers\u001b[39m.\u001b[39mBidirectional(tf\u001b[39m.\u001b[39mkeras\u001b[39m.\u001b[39mlayers\u001b[39m.\u001b[39mLSTM(\u001b[39m150\u001b[39m, return_sequences \u001b[39m=\u001b[39m \u001b[39mTrue\u001b[39;00m)),\n\u001b[0;32m   (...)\u001b[0m\n\u001b[1;32m     15\u001b[0m     tf\u001b[39m.\u001b[39mkeras\u001b[39m.\u001b[39mlayers\u001b[39m.\u001b[39mDense(total_words, activation\u001b[39m=\u001b[39m\u001b[39m'\u001b[39m\u001b[39msoftmax\u001b[39m\u001b[39m'\u001b[39m)\n\u001b[1;32m     16\u001b[0m ])\n",
            "\u001b[0;31mNameError\u001b[0m: name 'keras' is not defined"
          ]
        }
      ],
      "source": [
        "learning_rate = 0.01\n",
        "# < \n",
        "\n",
        "#Fitting process, SVD, adam ~ semnatic, \n",
        "optimizer = keras.optimizers.Adam(lr=learning_rate)\n",
        "\n",
        "#\n",
        "# Model 1\n",
        "model1 = tf.keras.Sequential([\n",
        "    tf.keras.layers.Embedding(total_words, 100, input_length=max_sequence_len-1),\n",
        "    tf.keras.layers.Bidirectional(tf.keras.layers.LSTM(150, return_sequences = True)),\n",
        "    tf.keras.layers.Dropout(0.2),\n",
        "    tf.keras.layers.LSTM(100),\n",
        "    tf.keras.layers.Dense(total_words/2, activation='relu', kernel_regularizer=tf.keras.regularizers.l2(0.01)),\n",
        "    tf.keras.layers.Dense(total_words, activation='softmax')\n",
        "])\n",
        "model1.summary()\n",
        "model1.compile(loss='categorical_crossentropy', optimizer=optimizer, metrics=['accuracy'])\n",
        "# Train the models\n",
        "bs = 128\n",
        "history1 = model1.fit(predictors, label, epochs=100, verbose=1, batch_size = bs)"
      ]
    },
    {
      "attachments": {},
      "cell_type": "markdown",
      "metadata": {
        "id": "2hY3YZGXWcCj"
      },
      "source": [
        "# **Model 2: \"LSTM-Bidirectional-2\"**\n",
        "This model is similar to Model 1 but with two bidirectional LSTM layers to better capture the long-term dependencies in the input sequence."
      ]
    },
    {
      "cell_type": "code",
      "execution_count": null,
      "metadata": {
        "colab": {
          "base_uri": "https://localhost:8080/"
        },
        "id": "etKEOPB9V2FL",
        "outputId": "0d5c84e8-48a4-4e3b-cd77-c8dd9d106fd6"
      },
      "outputs": [
        {
          "name": "stdout",
          "output_type": "stream",
          "text": [
            "Model: \"sequential_3\"\n",
            "_________________________________________________________________\n",
            " Layer (type)                Output Shape              Param #   \n",
            "=================================================================\n",
            " embedding_3 (Embedding)     (None, 93, 100)           24000     \n",
            "                                                                 \n",
            " bidirectional_3 (Bidirectio  (None, 93, 256)          234496    \n",
            " nal)                                                            \n",
            "                                                                 \n",
            " dropout_3 (Dropout)         (None, 93, 256)           0         \n",
            "                                                                 \n",
            " bidirectional_4 (Bidirectio  (None, 256)              394240    \n",
            " nal)                                                            \n",
            "                                                                 \n",
            " dense_6 (Dense)             (None, 120)               30840     \n",
            "                                                                 \n",
            " dense_7 (Dense)             (None, 240)               29040     \n",
            "                                                                 \n",
            "=================================================================\n",
            "Total params: 712,616\n",
            "Trainable params: 712,616\n",
            "Non-trainable params: 0\n",
            "_________________________________________________________________\n",
            "Epoch 1/100\n",
            "4/4 [==============================] - 22s 3s/step - loss: 6.5771 - accuracy: 0.0312\n",
            "Epoch 2/100\n",
            "4/4 [==============================] - 11s 2s/step - loss: 6.1974 - accuracy: 0.0469\n",
            "Epoch 3/100\n",
            "4/4 [==============================] - 7s 2s/step - loss: 6.2470 - accuracy: 0.0201\n",
            "Epoch 4/100\n",
            "4/4 [==============================] - 5s 1s/step - loss: 5.8650 - accuracy: 0.0268\n",
            "Epoch 5/100\n",
            "4/4 [==============================] - 7s 2s/step - loss: 5.5978 - accuracy: 0.0446\n",
            "Epoch 6/100\n",
            "4/4 [==============================] - 5s 1s/step - loss: 5.2962 - accuracy: 0.0491\n",
            "Epoch 7/100\n",
            "4/4 [==============================] - 7s 2s/step - loss: 5.0944 - accuracy: 0.0580\n",
            "Epoch 8/100\n",
            "4/4 [==============================] - 5s 1s/step - loss: 4.9399 - accuracy: 0.0402\n",
            "Epoch 9/100\n",
            "4/4 [==============================] - 6s 2s/step - loss: 4.8554 - accuracy: 0.0647\n",
            "Epoch 10/100\n",
            "4/4 [==============================] - 6s 1s/step - loss: 4.7378 - accuracy: 0.0714\n",
            "Epoch 11/100\n",
            "4/4 [==============================] - 6s 1s/step - loss: 4.6518 - accuracy: 0.0759\n",
            "Epoch 12/100\n",
            "4/4 [==============================] - 7s 1s/step - loss: 4.5496 - accuracy: 0.0781\n",
            "Epoch 13/100\n",
            "4/4 [==============================] - 6s 1s/step - loss: 4.4433 - accuracy: 0.0737\n",
            "Epoch 14/100\n",
            "4/4 [==============================] - 7s 2s/step - loss: 4.3304 - accuracy: 0.1049\n",
            "Epoch 15/100\n",
            "4/4 [==============================] - 5s 1s/step - loss: 4.2391 - accuracy: 0.1049\n",
            "Epoch 16/100\n",
            "4/4 [==============================] - 7s 2s/step - loss: 4.2414 - accuracy: 0.1094\n",
            "Epoch 17/100\n",
            "4/4 [==============================] - 5s 1s/step - loss: 4.1650 - accuracy: 0.1183\n",
            "Epoch 18/100\n",
            "4/4 [==============================] - 8s 2s/step - loss: 4.1317 - accuracy: 0.1272\n",
            "Epoch 19/100\n",
            "4/4 [==============================] - 7s 2s/step - loss: 4.0255 - accuracy: 0.1250\n",
            "Epoch 20/100\n",
            "4/4 [==============================] - 7s 2s/step - loss: 3.9614 - accuracy: 0.1339\n",
            "Epoch 21/100\n",
            "4/4 [==============================] - 6s 1s/step - loss: 3.9073 - accuracy: 0.1406\n",
            "Epoch 22/100\n",
            "4/4 [==============================] - 7s 2s/step - loss: 3.8570 - accuracy: 0.1295\n",
            "Epoch 23/100\n",
            "4/4 [==============================] - 5s 1s/step - loss: 3.7867 - accuracy: 0.1562\n",
            "Epoch 24/100\n",
            "4/4 [==============================] - 7s 2s/step - loss: 3.7922 - accuracy: 0.1496\n",
            "Epoch 25/100\n",
            "4/4 [==============================] - 5s 1s/step - loss: 3.7425 - accuracy: 0.1674\n",
            "Epoch 26/100\n",
            "4/4 [==============================] - 7s 2s/step - loss: 3.6694 - accuracy: 0.1830\n",
            "Epoch 27/100\n",
            "4/4 [==============================] - 5s 1s/step - loss: 3.5977 - accuracy: 0.1875\n",
            "Epoch 28/100\n",
            "4/4 [==============================] - 7s 2s/step - loss: 3.4969 - accuracy: 0.2054\n",
            "Epoch 29/100\n",
            "4/4 [==============================] - 6s 1s/step - loss: 3.3798 - accuracy: 0.2188\n",
            "Epoch 30/100\n",
            "4/4 [==============================] - 7s 2s/step - loss: 3.3407 - accuracy: 0.2188\n",
            "Epoch 31/100\n",
            "4/4 [==============================] - 6s 1s/step - loss: 3.3649 - accuracy: 0.2299\n",
            "Epoch 32/100\n",
            "4/4 [==============================] - 6s 2s/step - loss: 3.2153 - accuracy: 0.2478\n",
            "Epoch 33/100\n",
            "4/4 [==============================] - 6s 1s/step - loss: 3.1400 - accuracy: 0.2656\n",
            "Epoch 34/100\n",
            "4/4 [==============================] - 6s 2s/step - loss: 3.0305 - accuracy: 0.2701\n",
            "Epoch 35/100\n",
            "4/4 [==============================] - 6s 1s/step - loss: 2.9847 - accuracy: 0.2746\n",
            "Epoch 36/100\n",
            "4/4 [==============================] - 6s 2s/step - loss: 2.9150 - accuracy: 0.2812\n",
            "Epoch 37/100\n",
            "4/4 [==============================] - 6s 1s/step - loss: 2.8522 - accuracy: 0.2969\n",
            "Epoch 38/100\n",
            "4/4 [==============================] - 6s 2s/step - loss: 2.8164 - accuracy: 0.3058\n",
            "Epoch 39/100\n",
            "4/4 [==============================] - 8s 2s/step - loss: 3.1280 - accuracy: 0.3013\n",
            "Epoch 40/100\n",
            "4/4 [==============================] - 6s 1s/step - loss: 3.0689 - accuracy: 0.3058\n",
            "Epoch 41/100\n",
            "4/4 [==============================] - 7s 2s/step - loss: 2.9359 - accuracy: 0.3348\n",
            "Epoch 42/100\n",
            "4/4 [==============================] - 5s 1s/step - loss: 2.9570 - accuracy: 0.3170\n",
            "Epoch 43/100\n",
            "4/4 [==============================] - 7s 2s/step - loss: 2.9121 - accuracy: 0.3482\n",
            "Epoch 44/100\n",
            "4/4 [==============================] - 6s 1s/step - loss: 2.9335 - accuracy: 0.3482\n",
            "Epoch 45/100\n",
            "4/4 [==============================] - 7s 2s/step - loss: 2.8255 - accuracy: 0.3661\n",
            "Epoch 46/100\n",
            "4/4 [==============================] - 5s 1s/step - loss: 2.7888 - accuracy: 0.3728\n",
            "Epoch 47/100\n",
            "4/4 [==============================] - 7s 2s/step - loss: 2.7071 - accuracy: 0.3906\n",
            "Epoch 48/100\n",
            "4/4 [==============================] - 6s 1s/step - loss: 2.6832 - accuracy: 0.3817\n",
            "Epoch 49/100\n",
            "4/4 [==============================] - 7s 2s/step - loss: 2.6029 - accuracy: 0.4085\n",
            "Epoch 50/100\n",
            "4/4 [==============================] - 6s 1s/step - loss: 2.5107 - accuracy: 0.4308\n",
            "Epoch 51/100\n",
            "4/4 [==============================] - 7s 2s/step - loss: 2.4489 - accuracy: 0.4241\n",
            "Epoch 52/100\n",
            "4/4 [==============================] - 6s 1s/step - loss: 2.3274 - accuracy: 0.4643\n",
            "Epoch 53/100\n",
            "4/4 [==============================] - 7s 2s/step - loss: 2.2243 - accuracy: 0.4799\n",
            "Epoch 54/100\n",
            "4/4 [==============================] - 6s 1s/step - loss: 2.1357 - accuracy: 0.5357\n",
            "Epoch 55/100\n",
            "4/4 [==============================] - 7s 2s/step - loss: 2.0794 - accuracy: 0.4978\n",
            "Epoch 56/100\n",
            "4/4 [==============================] - 6s 1s/step - loss: 2.0395 - accuracy: 0.5045\n",
            "Epoch 57/100\n",
            "4/4 [==============================] - 7s 2s/step - loss: 1.9811 - accuracy: 0.5670\n",
            "Epoch 58/100\n",
            "4/4 [==============================] - 6s 1s/step - loss: 1.9265 - accuracy: 0.5491\n",
            "Epoch 59/100\n",
            "4/4 [==============================] - 6s 2s/step - loss: 1.8784 - accuracy: 0.5670\n",
            "Epoch 60/100\n",
            "4/4 [==============================] - 6s 1s/step - loss: 1.8035 - accuracy: 0.5871\n",
            "Epoch 61/100\n",
            "4/4 [==============================] - 5s 1s/step - loss: 1.7282 - accuracy: 0.6295\n",
            "Epoch 62/100\n",
            "4/4 [==============================] - 7s 1s/step - loss: 1.6955 - accuracy: 0.6429\n",
            "Epoch 63/100\n",
            "4/4 [==============================] - 6s 1s/step - loss: 1.6279 - accuracy: 0.6674\n",
            "Epoch 64/100\n",
            "4/4 [==============================] - 7s 1s/step - loss: 1.5953 - accuracy: 0.6607\n",
            "Epoch 65/100\n",
            "4/4 [==============================] - 6s 1s/step - loss: 1.5538 - accuracy: 0.6830\n",
            "Epoch 66/100\n",
            "4/4 [==============================] - 7s 1s/step - loss: 1.5226 - accuracy: 0.6964\n",
            "Epoch 67/100\n",
            "4/4 [==============================] - 6s 1s/step - loss: 1.4846 - accuracy: 0.7098\n",
            "Epoch 68/100\n",
            "4/4 [==============================] - 7s 2s/step - loss: 1.4820 - accuracy: 0.7254\n",
            "Epoch 69/100\n",
            "4/4 [==============================] - 6s 1s/step - loss: 1.4576 - accuracy: 0.7121\n",
            "Epoch 70/100\n",
            "4/4 [==============================] - 7s 2s/step - loss: 1.4539 - accuracy: 0.7388\n",
            "Epoch 71/100\n",
            "4/4 [==============================] - 6s 1s/step - loss: 1.3689 - accuracy: 0.7879\n",
            "Epoch 72/100\n",
            "4/4 [==============================] - 7s 2s/step - loss: 1.3021 - accuracy: 0.7946\n",
            "Epoch 73/100\n",
            "4/4 [==============================] - 6s 1s/step - loss: 1.2999 - accuracy: 0.7746\n",
            "Epoch 74/100\n",
            "4/4 [==============================] - 7s 2s/step - loss: 1.2379 - accuracy: 0.7991\n",
            "Epoch 75/100\n",
            "4/4 [==============================] - 6s 1s/step - loss: 1.2137 - accuracy: 0.8147\n",
            "Epoch 76/100\n",
            "4/4 [==============================] - 8s 2s/step - loss: 1.1953 - accuracy: 0.8103\n",
            "Epoch 77/100\n",
            "4/4 [==============================] - 5s 1s/step - loss: 1.1690 - accuracy: 0.8326\n",
            "Epoch 78/100\n",
            "4/4 [==============================] - 7s 2s/step - loss: 1.1305 - accuracy: 0.8393\n",
            "Epoch 79/100\n",
            "4/4 [==============================] - 6s 1s/step - loss: 1.1224 - accuracy: 0.8326\n",
            "Epoch 80/100\n",
            "4/4 [==============================] - 7s 2s/step - loss: 1.0781 - accuracy: 0.8527\n",
            "Epoch 81/100\n",
            "4/4 [==============================] - 6s 1s/step - loss: 1.0407 - accuracy: 0.8527\n",
            "Epoch 82/100\n",
            "4/4 [==============================] - 7s 2s/step - loss: 1.0147 - accuracy: 0.8795\n",
            "Epoch 83/100\n",
            "4/4 [==============================] - 6s 1s/step - loss: 0.9859 - accuracy: 0.8683\n",
            "Epoch 84/100\n",
            "4/4 [==============================] - 7s 2s/step - loss: 0.9397 - accuracy: 0.8839\n",
            "Epoch 85/100\n",
            "4/4 [==============================] - 6s 1s/step - loss: 0.9180 - accuracy: 0.9107\n",
            "Epoch 86/100\n",
            "4/4 [==============================] - 7s 2s/step - loss: 0.8805 - accuracy: 0.9040\n",
            "Epoch 87/100\n",
            "4/4 [==============================] - 5s 1s/step - loss: 0.8586 - accuracy: 0.9107\n",
            "Epoch 88/100\n",
            "4/4 [==============================] - 7s 2s/step - loss: 0.8291 - accuracy: 0.9241\n",
            "Epoch 89/100\n",
            "4/4 [==============================] - 5s 1s/step - loss: 0.8142 - accuracy: 0.9286\n",
            "Epoch 90/100\n",
            "4/4 [==============================] - 7s 2s/step - loss: 0.7813 - accuracy: 0.9353\n",
            "Epoch 91/100\n",
            "4/4 [==============================] - 6s 1s/step - loss: 0.7707 - accuracy: 0.9330\n",
            "Epoch 92/100\n",
            "4/4 [==============================] - 7s 2s/step - loss: 0.7565 - accuracy: 0.9330\n",
            "Epoch 93/100\n",
            "4/4 [==============================] - 6s 1s/step - loss: 0.7348 - accuracy: 0.9397\n",
            "Epoch 94/100\n",
            "4/4 [==============================] - 7s 2s/step - loss: 0.7233 - accuracy: 0.9442\n",
            "Epoch 95/100\n",
            "4/4 [==============================] - 8s 2s/step - loss: 0.7165 - accuracy: 0.9487\n",
            "Epoch 96/100\n",
            "4/4 [==============================] - 7s 2s/step - loss: 0.7075 - accuracy: 0.9509\n",
            "Epoch 97/100\n",
            "4/4 [==============================] - 5s 1s/step - loss: 0.6722 - accuracy: 0.9576\n",
            "Epoch 98/100\n",
            "4/4 [==============================] - 7s 2s/step - loss: 0.6600 - accuracy: 0.9598\n",
            "Epoch 99/100\n",
            "4/4 [==============================] - 6s 1s/step - loss: 0.6439 - accuracy: 0.9598\n",
            "Epoch 100/100\n",
            "4/4 [==============================] - 6s 1s/step - loss: 0.6259 - accuracy: 0.9732\n"
          ]
        }
      ],
      "source": [
        "# Model 2\n",
        "model2 = tf.keras.Sequential([\n",
        "    tf.keras.layers.Embedding(total_words, 100, input_length=max_sequence_len-1),\n",
        "    tf.keras.layers.Bidirectional(tf.keras.layers.LSTM(128, return_sequences = True)),\n",
        "    tf.keras.layers.Dropout(0.2),\n",
        "    tf.keras.layers.Bidirectional(tf.keras.layers.LSTM(128)),\n",
        "    tf.keras.layers.Dense(total_words/2, activation='relu', kernel_regularizer=tf.keras.regularizers.l2(0.01)),\n",
        "    tf.keras.layers.Dense(total_words, activation='softmax')\n",
        "])\n",
        "model2.summary()\n",
        "model2.compile(loss='categorical_crossentropy', optimizer=optimizer, metrics=['accuracy'])\n",
        "history2 = model2.fit(predictors, label, epochs=100, verbose=1, batch_size = bs)"
      ]
    },
    {
      "attachments": {},
      "cell_type": "markdown",
      "metadata": {
        "id": "gWchWLP8XUxi"
      },
      "source": [
        "# **Model 3: \"Conv-LSTM\"**\n",
        "This model uses a convolutional layer followed by two LSTM layers to process the input sequence and predict the next word. The convolutional layer helps capture local patterns in the input sequence."
      ]
    },
    {
      "cell_type": "code",
      "execution_count": null,
      "metadata": {
        "colab": {
          "base_uri": "https://localhost:8080/"
        },
        "id": "jvth2j7JV4wr",
        "outputId": "cfbe823b-b84f-480f-a17d-ba216270bf35"
      },
      "outputs": [
        {
          "name": "stdout",
          "output_type": "stream",
          "text": [
            "Model: \"sequential_4\"\n",
            "_________________________________________________________________\n",
            " Layer (type)                Output Shape              Param #   \n",
            "=================================================================\n",
            " embedding_4 (Embedding)     (None, 93, 100)           24000     \n",
            "                                                                 \n",
            " conv1d (Conv1D)             (None, 93, 64)            19264     \n",
            "                                                                 \n",
            " dropout_4 (Dropout)         (None, 93, 64)            0         \n",
            "                                                                 \n",
            " lstm_8 (LSTM)               (None, 93, 16)            5184      \n",
            "                                                                 \n",
            " dropout_5 (Dropout)         (None, 93, 16)            0         \n",
            "                                                                 \n",
            " lstm_9 (LSTM)               (None, 8)                 800       \n",
            "                                                                 \n",
            " dense_8 (Dense)             (None, 120)               1080      \n",
            "                                                                 \n",
            " dense_9 (Dense)             (None, 240)               29040     \n",
            "                                                                 \n",
            "=================================================================\n",
            "Total params: 79,368\n",
            "Trainable params: 79,368\n",
            "Non-trainable params: 0\n",
            "_________________________________________________________________\n",
            "Epoch 1/100\n",
            "4/4 [==============================] - 6s 140ms/step - loss: 5.9403 - accuracy: 0.0201\n",
            "Epoch 2/100\n",
            "4/4 [==============================] - 1s 151ms/step - loss: 5.2484 - accuracy: 0.0580\n",
            "Epoch 3/100\n",
            "4/4 [==============================] - 1s 170ms/step - loss: 5.2290 - accuracy: 0.0469\n",
            "Epoch 4/100\n",
            "4/4 [==============================] - 1s 156ms/step - loss: 5.1240 - accuracy: 0.0580\n",
            "Epoch 5/100\n",
            "4/4 [==============================] - 1s 165ms/step - loss: 5.0109 - accuracy: 0.0580\n",
            "Epoch 6/100\n",
            "4/4 [==============================] - 1s 159ms/step - loss: 4.8866 - accuracy: 0.0580\n",
            "Epoch 7/100\n",
            "4/4 [==============================] - 1s 144ms/step - loss: 4.7747 - accuracy: 0.0580\n",
            "Epoch 8/100\n",
            "4/4 [==============================] - 1s 151ms/step - loss: 4.6980 - accuracy: 0.0580\n",
            "Epoch 9/100\n",
            "4/4 [==============================] - 1s 143ms/step - loss: 4.6509 - accuracy: 0.0580\n",
            "Epoch 10/100\n",
            "4/4 [==============================] - 1s 145ms/step - loss: 4.6091 - accuracy: 0.0625\n",
            "Epoch 11/100\n",
            "4/4 [==============================] - 1s 141ms/step - loss: 4.5711 - accuracy: 0.0603\n",
            "Epoch 12/100\n",
            "4/4 [==============================] - 1s 143ms/step - loss: 4.5420 - accuracy: 0.0580\n",
            "Epoch 13/100\n",
            "4/4 [==============================] - 1s 154ms/step - loss: 4.5272 - accuracy: 0.0603\n",
            "Epoch 14/100\n",
            "4/4 [==============================] - 1s 159ms/step - loss: 4.5253 - accuracy: 0.0558\n",
            "Epoch 15/100\n",
            "4/4 [==============================] - 1s 156ms/step - loss: 4.5040 - accuracy: 0.0357\n",
            "Epoch 16/100\n",
            "4/4 [==============================] - 1s 141ms/step - loss: 4.4804 - accuracy: 0.0625\n",
            "Epoch 17/100\n",
            "4/4 [==============================] - 1s 241ms/step - loss: 4.4594 - accuracy: 0.0558\n",
            "Epoch 18/100\n",
            "4/4 [==============================] - 1s 247ms/step - loss: 4.4443 - accuracy: 0.0491\n",
            "Epoch 19/100\n",
            "4/4 [==============================] - 1s 237ms/step - loss: 4.3922 - accuracy: 0.0670\n",
            "Epoch 20/100\n",
            "4/4 [==============================] - 1s 160ms/step - loss: 4.3714 - accuracy: 0.0692\n",
            "Epoch 21/100\n",
            "4/4 [==============================] - 1s 162ms/step - loss: 4.3547 - accuracy: 0.0737\n",
            "Epoch 22/100\n",
            "4/4 [==============================] - 1s 168ms/step - loss: 4.3386 - accuracy: 0.0714\n",
            "Epoch 23/100\n",
            "4/4 [==============================] - 1s 165ms/step - loss: 4.3182 - accuracy: 0.0647\n",
            "Epoch 24/100\n",
            "4/4 [==============================] - 1s 165ms/step - loss: 4.3071 - accuracy: 0.0625\n",
            "Epoch 25/100\n",
            "4/4 [==============================] - 1s 168ms/step - loss: 4.2698 - accuracy: 0.0647\n",
            "Epoch 26/100\n",
            "4/4 [==============================] - 1s 163ms/step - loss: 4.2565 - accuracy: 0.0692\n",
            "Epoch 27/100\n",
            "4/4 [==============================] - 1s 162ms/step - loss: 4.2397 - accuracy: 0.0692\n",
            "Epoch 28/100\n",
            "4/4 [==============================] - 1s 143ms/step - loss: 4.2193 - accuracy: 0.0759\n",
            "Epoch 29/100\n",
            "4/4 [==============================] - 1s 145ms/step - loss: 4.1977 - accuracy: 0.0737\n",
            "Epoch 30/100\n",
            "4/4 [==============================] - 1s 145ms/step - loss: 4.1912 - accuracy: 0.0759\n",
            "Epoch 31/100\n",
            "4/4 [==============================] - 1s 145ms/step - loss: 4.1706 - accuracy: 0.0781\n",
            "Epoch 32/100\n",
            "4/4 [==============================] - 1s 144ms/step - loss: 4.1587 - accuracy: 0.0826\n",
            "Epoch 33/100\n",
            "4/4 [==============================] - 1s 147ms/step - loss: 4.1405 - accuracy: 0.0759\n",
            "Epoch 34/100\n",
            "4/4 [==============================] - 1s 142ms/step - loss: 4.1380 - accuracy: 0.0781\n",
            "Epoch 35/100\n",
            "4/4 [==============================] - 1s 195ms/step - loss: 4.1192 - accuracy: 0.0737\n",
            "Epoch 36/100\n",
            "4/4 [==============================] - 1s 294ms/step - loss: 4.1075 - accuracy: 0.0893\n",
            "Epoch 37/100\n",
            "4/4 [==============================] - 1s 291ms/step - loss: 4.0976 - accuracy: 0.0893\n",
            "Epoch 38/100\n",
            "4/4 [==============================] - 1s 163ms/step - loss: 4.0818 - accuracy: 0.0759\n",
            "Epoch 39/100\n",
            "4/4 [==============================] - 1s 148ms/step - loss: 4.1039 - accuracy: 0.0826\n",
            "Epoch 40/100\n",
            "4/4 [==============================] - 1s 141ms/step - loss: 4.0711 - accuracy: 0.0960\n",
            "Epoch 41/100\n",
            "4/4 [==============================] - 1s 147ms/step - loss: 4.0536 - accuracy: 0.0848\n",
            "Epoch 42/100\n",
            "4/4 [==============================] - 1s 145ms/step - loss: 4.0395 - accuracy: 0.1004\n",
            "Epoch 43/100\n",
            "4/4 [==============================] - 1s 144ms/step - loss: 4.0232 - accuracy: 0.0915\n",
            "Epoch 44/100\n",
            "4/4 [==============================] - 1s 144ms/step - loss: 4.0219 - accuracy: 0.0826\n",
            "Epoch 45/100\n",
            "4/4 [==============================] - 1s 142ms/step - loss: 4.0310 - accuracy: 0.0804\n",
            "Epoch 46/100\n",
            "4/4 [==============================] - 1s 162ms/step - loss: 4.0202 - accuracy: 0.0826\n",
            "Epoch 47/100\n",
            "4/4 [==============================] - 1s 142ms/step - loss: 4.0185 - accuracy: 0.0960\n",
            "Epoch 48/100\n",
            "4/4 [==============================] - 1s 184ms/step - loss: 4.0057 - accuracy: 0.0915\n",
            "Epoch 49/100\n",
            "4/4 [==============================] - 1s 256ms/step - loss: 3.9775 - accuracy: 0.0915\n",
            "Epoch 50/100\n",
            "4/4 [==============================] - 1s 249ms/step - loss: 3.9802 - accuracy: 0.0893\n",
            "Epoch 51/100\n",
            "4/4 [==============================] - 1s 178ms/step - loss: 3.9672 - accuracy: 0.0915\n",
            "Epoch 52/100\n",
            "4/4 [==============================] - 1s 208ms/step - loss: 3.9432 - accuracy: 0.0915\n",
            "Epoch 53/100\n",
            "4/4 [==============================] - 1s 280ms/step - loss: 3.9405 - accuracy: 0.0960\n",
            "Epoch 54/100\n",
            "4/4 [==============================] - 1s 290ms/step - loss: 3.9318 - accuracy: 0.0915\n",
            "Epoch 55/100\n",
            "4/4 [==============================] - 1s 147ms/step - loss: 3.9294 - accuracy: 0.0960\n",
            "Epoch 56/100\n",
            "4/4 [==============================] - 1s 141ms/step - loss: 3.9100 - accuracy: 0.0960\n",
            "Epoch 57/100\n",
            "4/4 [==============================] - 1s 167ms/step - loss: 3.9013 - accuracy: 0.1004\n",
            "Epoch 58/100\n",
            "4/4 [==============================] - 1s 162ms/step - loss: 3.8852 - accuracy: 0.0848\n",
            "Epoch 59/100\n",
            "4/4 [==============================] - 1s 165ms/step - loss: 3.9030 - accuracy: 0.0893\n",
            "Epoch 60/100\n",
            "4/4 [==============================] - 1s 145ms/step - loss: 3.8618 - accuracy: 0.1004\n",
            "Epoch 61/100\n",
            "4/4 [==============================] - 1s 145ms/step - loss: 3.8810 - accuracy: 0.1116\n",
            "Epoch 62/100\n",
            "4/4 [==============================] - 1s 168ms/step - loss: 3.8568 - accuracy: 0.1004\n",
            "Epoch 63/100\n",
            "4/4 [==============================] - 1s 161ms/step - loss: 3.8468 - accuracy: 0.1094\n",
            "Epoch 64/100\n",
            "4/4 [==============================] - 1s 162ms/step - loss: 3.8340 - accuracy: 0.1138\n",
            "Epoch 65/100\n",
            "4/4 [==============================] - 1s 148ms/step - loss: 3.8349 - accuracy: 0.1250\n",
            "Epoch 66/100\n",
            "4/4 [==============================] - 1s 140ms/step - loss: 3.8358 - accuracy: 0.1183\n",
            "Epoch 67/100\n",
            "4/4 [==============================] - 1s 142ms/step - loss: 3.7933 - accuracy: 0.1094\n",
            "Epoch 68/100\n",
            "4/4 [==============================] - 1s 149ms/step - loss: 3.8065 - accuracy: 0.0938\n",
            "Epoch 69/100\n",
            "4/4 [==============================] - 1s 143ms/step - loss: 3.7681 - accuracy: 0.1205\n",
            "Epoch 70/100\n",
            "4/4 [==============================] - 1s 164ms/step - loss: 3.7857 - accuracy: 0.1071\n",
            "Epoch 71/100\n",
            "4/4 [==============================] - 1s 264ms/step - loss: 3.7771 - accuracy: 0.1071\n",
            "Epoch 72/100\n",
            "4/4 [==============================] - 1s 261ms/step - loss: 3.7543 - accuracy: 0.1071\n",
            "Epoch 73/100\n",
            "4/4 [==============================] - 1s 220ms/step - loss: 3.7453 - accuracy: 0.1049\n",
            "Epoch 74/100\n",
            "4/4 [==============================] - 1s 150ms/step - loss: 3.7263 - accuracy: 0.1071\n",
            "Epoch 75/100\n",
            "4/4 [==============================] - 1s 168ms/step - loss: 3.7217 - accuracy: 0.1183\n",
            "Epoch 76/100\n",
            "4/4 [==============================] - 1s 164ms/step - loss: 3.7227 - accuracy: 0.1116\n",
            "Epoch 77/100\n",
            "4/4 [==============================] - 1s 153ms/step - loss: 3.7021 - accuracy: 0.1094\n",
            "Epoch 78/100\n",
            "4/4 [==============================] - 1s 144ms/step - loss: 3.6829 - accuracy: 0.1183\n",
            "Epoch 79/100\n",
            "4/4 [==============================] - 1s 142ms/step - loss: 3.6930 - accuracy: 0.1250\n",
            "Epoch 80/100\n",
            "4/4 [==============================] - 1s 145ms/step - loss: 3.6752 - accuracy: 0.1116\n",
            "Epoch 81/100\n",
            "4/4 [==============================] - 1s 142ms/step - loss: 3.6456 - accuracy: 0.1205\n",
            "Epoch 82/100\n",
            "4/4 [==============================] - 1s 141ms/step - loss: 3.6250 - accuracy: 0.1138\n",
            "Epoch 83/100\n",
            "4/4 [==============================] - 1s 144ms/step - loss: 3.6409 - accuracy: 0.1183\n",
            "Epoch 84/100\n",
            "4/4 [==============================] - 1s 150ms/step - loss: 3.6347 - accuracy: 0.1295\n",
            "Epoch 85/100\n",
            "4/4 [==============================] - 1s 162ms/step - loss: 3.6174 - accuracy: 0.1161\n",
            "Epoch 86/100\n",
            "4/4 [==============================] - 1s 143ms/step - loss: 3.6170 - accuracy: 0.1138\n",
            "Epoch 87/100\n",
            "4/4 [==============================] - 1s 146ms/step - loss: 3.6043 - accuracy: 0.1183\n",
            "Epoch 88/100\n",
            "4/4 [==============================] - 1s 163ms/step - loss: 3.5771 - accuracy: 0.1183\n",
            "Epoch 89/100\n",
            "4/4 [==============================] - 1s 174ms/step - loss: 3.5887 - accuracy: 0.1272\n",
            "Epoch 90/100\n",
            "4/4 [==============================] - 1s 262ms/step - loss: 3.5765 - accuracy: 0.1250\n",
            "Epoch 91/100\n",
            "4/4 [==============================] - 1s 259ms/step - loss: 3.5587 - accuracy: 0.1272\n",
            "Epoch 92/100\n",
            "4/4 [==============================] - 1s 196ms/step - loss: 3.5397 - accuracy: 0.1317\n",
            "Epoch 93/100\n",
            "4/4 [==============================] - 1s 163ms/step - loss: 3.5673 - accuracy: 0.1362\n",
            "Epoch 94/100\n",
            "4/4 [==============================] - 1s 141ms/step - loss: 3.5292 - accuracy: 0.1272\n",
            "Epoch 95/100\n",
            "4/4 [==============================] - 1s 140ms/step - loss: 3.5267 - accuracy: 0.1562\n",
            "Epoch 96/100\n",
            "4/4 [==============================] - 1s 146ms/step - loss: 3.5227 - accuracy: 0.1362\n",
            "Epoch 97/100\n",
            "4/4 [==============================] - 1s 141ms/step - loss: 3.5142 - accuracy: 0.1295\n",
            "Epoch 98/100\n",
            "4/4 [==============================] - 1s 141ms/step - loss: 3.5179 - accuracy: 0.1384\n",
            "Epoch 99/100\n",
            "4/4 [==============================] - 1s 163ms/step - loss: 3.5374 - accuracy: 0.1228\n",
            "Epoch 100/100\n",
            "4/4 [==============================] - 1s 147ms/step - loss: 3.5072 - accuracy: 0.1339\n"
          ]
        }
      ],
      "source": [
        "# Model 3\n",
        "model3 = tf.keras.Sequential([\n",
        "    tf.keras.layers.Embedding(total_words, 100, input_length=max_sequence_len-1),\n",
        "    tf.keras.layers.Conv1D(filters=64, kernel_size=3, padding='causal', activation='relu'),\n",
        "    tf.keras.layers.Dropout(0.2),\n",
        "    tf.keras.layers.LSTM(16, return_sequences = True),\n",
        "    tf.keras.layers.Dropout(0.2),\n",
        "    tf.keras.layers.LSTM(8),\n",
        "    tf.keras.layers.Dense(total_words/2, activation='relu', kernel_regularizer=tf.keras.regularizers.l2(0.05)),\n",
        "    tf.keras.layers.Dense(total_words, activation='softmax')\n",
        "])\n",
        "model3.summary()\n",
        "model3.compile(loss='categorical_crossentropy', optimizer=optimizer, metrics=['accuracy'])\n",
        "history3 = model3.fit(predictors, label, epochs=100, verbose=1, batch_size = bs)"
      ]
    },
    {
      "attachments": {},
      "cell_type": "markdown",
      "metadata": {
        "id": "MIRv8-FyUYft"
      },
      "source": [
        "## **Step 6:** Evaluate the models\n",
        "\n",
        "---\n",
        "\n",
        "\n",
        "The sixth step is to evaluate the performance of each model using the evaluate method. The visualization data is plotted for the `model1`, `model2`, and `model3` variables are used to store the models."
      ]
    },
    {
      "cell_type": "code",
      "execution_count": null,
      "metadata": {
        "colab": {
          "base_uri": "https://localhost:8080/",
          "height": 927
        },
        "id": "7VilT3Q3U6bd",
        "outputId": "ecc9c7f2-9e9b-4d4c-ce62-d294efdaea6e"
      },
      "outputs": [
        {
          "data": {
            "image/png": "[encoded data removed]",
            "text/plain": [
              "<Figure size 640x480 with 1 Axes>"
            ]
          },
          "metadata": {},
          "output_type": "display_data"
        },
        {
          "data": {
            "image/png": "[encoded data removed]",
            "text/plain": [
              "<Figure size 640x480 with 1 Axes>"
            ]
          },
          "metadata": {},
          "output_type": "display_data"
        }
      ],
      "source": [
        "# Plot the training loss and accuracy for each model\n",
        "import matplotlib.pyplot as plt\n",
        "\n",
        "plt.plot(history1.history['loss'])\n",
        "plt.plot(history2.history['loss'])\n",
        "plt.plot(history3.history['loss'])\n",
        "plt.title('Model Training Loss')\n",
        "plt.ylabel('Loss')\n",
        "plt.xlabel('Epoch')\n",
        "plt.legend(['Model 1', 'Model 2', 'Model 3'], loc='upper right')\n",
        "plt.show()\n",
        "\n",
        "plt.plot(history1.history['accuracy'])\n",
        "plt.plot(history2.history['accuracy'])\n",
        "plt.plot(history3.history['accuracy'])\n",
        "plt.title('Model Training Accuracy')\n",
        "plt.ylabel('Accuracy')\n",
        "plt.xlabel('Epoch')\n",
        "plt.legend(['Model 1', 'Model 2', 'Model 3'], loc='lower right')\n",
        "plt.show()"
      ]
    },
    {
      "attachments": {},
      "cell_type": "markdown",
      "metadata": {
        "id": "kMJ5TUIuUhN_"
      },
      "source": [
        "## **Step 7:** Generate text using the trained models\n",
        "\n",
        "---\n",
        "\n",
        "\n",
        "The seventh step is to generate text using the trained models. The `generate_text` function is defined to generate text using the trained models. This function takes in a seed text, the number of words to generate, the model to use, and the maximum sequence length as input.\n",
        "\n",
        "The `token_list` variable is used to store the tokenized version of the seed text, and the `pad_sequences` method is used to pad the sequences to ensure they are all of the same length. The `model.predict` method is used to predict the probability distribution of the next word, and the `np.argmax` method is used to get the index of the predicted word.\n",
        "\n",
        "The predicted word is then added to the output text, and the function returns the generated text."
      ]
    },
    {
      "cell_type": "code",
      "execution_count": 43,
      "metadata": {
        "colab": {
          "base_uri": "https://localhost:8080/"
        },
        "id": "wXIaXVRJzHvs",
        "outputId": "be9ba393-f23e-4d36-9a96-26bbbd60b3de"
      },
      "outputs": [
        {
          "name": "stdout",
          "output_type": "stream",
          "text": [
            "Using Model 1:\n",
            "Generated Text: Two Types Of Preset Resistor Are Commonly Found In Circuits. The Skeleton Top Known In Inductor To\n",
            "\n",
            "Using Model 2:\n",
            "Generated Text: Two Types Of Preset Resistor Are Commonly Found In Circuits. The Skeleton Top Of The Inductance And\n",
            "\n",
            "Using Model 3:\n",
            "Generated Text: Two Types Of Preset Resistor Are Commonly Found In Circuits. The Skeleton To Inductor To Inductor In Inductor The\n"
          ]
        }
      ],
      "source": [
        "import numpy as np\n",
        "\n",
        "def generate_text(seed_text, next_words, model, max_sequence_len):\n",
        "    for _ in range(next_words):\n",
        "        token_list = tokenizer.texts_to_sequences([seed_text])[0]\n",
        "        token_list = pad_sequences([token_list], maxlen=max_sequence_len-1, padding='pre')\n",
        "        predicted_probs = model.predict(token_list, verbose=0)\n",
        "        predicted = np.argmax(predicted_probs, axis=-1)\n",
        "\n",
        "        # Get the predicted word\n",
        "        output_word = \"\"\n",
        "        for word,index in tokenizer.word_index.items():\n",
        "            if index == predicted:\n",
        "                output_word = word\n",
        "                break\n",
        "        seed_text += \" \"+output_word\n",
        "    \n",
        "    output_text = seed_text.title()\n",
        "    print(\"Generated Text:\", output_text)\n",
        "\n",
        "inp = \"Two types of preset resistor are commonly found in circuits. The skeleton\"\n",
        "\n",
        "# Generate text using Model 1\n",
        "print(\"Using Model 1:\")\n",
        "generate_text(inp, 5, model1, max_sequence_len)\n",
        "\n",
        "# Generate text using Model 2\n",
        "print(\"\\nUsing Model 2:\")\n",
        "generate_text(inp, 5, model2, max_sequence_len)\n",
        "\n",
        "# Generate text using Model 3\n",
        "print(\"\\nUsing Model 3:\")\n",
        "generate_text(inp, 7, model3, max_sequence_len)"
      ]
    }
  ],
  "metadata": {
    "colab": {
      "provenance": []
    },
    "kernelspec": {
      "display_name": "Python 3",
      "name": "python3"
    },
    "language_info": {
      "codemirror_mode": {
        "name": "ipython",
        "version": 3
      },
      "file_extension": ".py",
      "mimetype": "text/x-python",
      "name": "python",
      "nbconvert_exporter": "python",
      "pygments_lexer": "ipython3",
      "version": "3.10.10"
    }
  },
  "nbformat": 4,
  "nbformat_minor": 0
}
